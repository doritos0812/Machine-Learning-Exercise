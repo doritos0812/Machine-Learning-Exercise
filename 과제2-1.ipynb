{
 "cells": [
  {
   "cell_type": "markdown",
   "metadata": {},
   "source": [
    "# 2015104013 김형민 머신러닝개론 과제 2-1번. 다항 회귀"
   ]
  },
  {
   "cell_type": "markdown",
   "metadata": {},
   "source": [
    "### 기본 import 및 설정"
   ]
  },
  {
   "cell_type": "code",
   "execution_count": 2,
   "metadata": {},
   "outputs": [],
   "source": [
    "# 파이썬 ≥3.5 필수\n",
    "import sys\n",
    "assert sys.version_info >= (3, 5)\n",
    "\n",
    "# 사이킷런 ≥0.20 필수\n",
    "import sklearn\n",
    "assert sklearn.__version__ >= \"0.20\"\n",
    "\n",
    "# 텐서플로 ≥2.0 필수\n",
    "import tensorflow as tf\n",
    "assert tf.__version__ >= \"2.0\"\n",
    "\n",
    "# 공통 모듈 임포트\n",
    "import numpy as np\n",
    "import os\n",
    "\n",
    "# 노트북 실행 결과를 동일하게 유지하기 위해\n",
    "np.random.seed(42)\n",
    "\n",
    "# 깔끔한 그래프 출력을 위해\n",
    "%matplotlib inline\n",
    "import matplotlib as mpl\n",
    "import matplotlib.pyplot as plt\n",
    "mpl.rc('axes', labelsize=14)\n",
    "mpl.rc('xtick', labelsize=12)\n",
    "mpl.rc('ytick', labelsize=12)\n",
    "\n",
    "# 그림을 저장할 위치\n",
    "PROJECT_ROOT_DIR = \".\"\n",
    "CHAPTER_ID = \"ann\"\n",
    "IMAGES_PATH = os.path.join(PROJECT_ROOT_DIR, \"images\", CHAPTER_ID)\n",
    "os.makedirs(IMAGES_PATH, exist_ok=True)\n",
    "\n",
    "def save_fig(fig_id, tight_layout=True, fig_extension=\"png\", resolution=300):\n",
    "    path = os.path.join(IMAGES_PATH, fig_id + \".\" + fig_extension)\n",
    "    print(\"그림 저장:\", fig_id)\n",
    "    if tight_layout:\n",
    "        plt.tight_layout()\n",
    "    plt.savefig(path, format=fig_extension, dpi=resolution)\n",
    "\n",
    "# 불필요한 경고를 무시합니다 (사이파이 이슈 #5998 참조)\n",
    "import warnings\n",
    "warnings.filterwarnings(action=\"ignore\", message=\"^internal gelsd\")\n",
    "\n",
    "import tensorflow as tf\n",
    "from tensorflow import keras"
   ]
  },
  {
   "cell_type": "markdown",
   "metadata": {},
   "source": [
    "### sklearn 데이터셋 불러오기 및 Train, Test set"
   ]
  },
  {
   "cell_type": "code",
   "execution_count": 3,
   "metadata": {},
   "outputs": [],
   "source": [
    "# 캘리포니아 주택 데이터셋을 로드하여 나누고 스케일을 바꾼다. \n",
    "from sklearn.datasets import fetch_california_housing\n",
    "from sklearn.model_selection import train_test_split\n",
    "from sklearn.preprocessing import MinMaxScaler ## 바꾼 Scale\n",
    "\n",
    "housing = fetch_california_housing()\n",
    "\n",
    "# 훈련 세트와 테스트 세트로 나눈다. \n",
    "X_train_full, X_test, y_train_full, y_test = train_test_split(housing.data, housing.target, random_state=42)\n",
    "X_train, X_valid, y_train, y_valid = train_test_split(X_train_full, y_train_full, random_state=42)\n",
    "\n",
    "scaler = MinMaxScaler() # 스케일러 변경\n",
    "X_train = scaler.fit_transform(X_train)\n",
    "X_valid = scaler.transform(X_valid)\n",
    "X_test = scaler.transform(X_test)"
   ]
  },
  {
   "cell_type": "code",
   "execution_count": 4,
   "metadata": {},
   "outputs": [],
   "source": [
    "np.random.seed(42)\n",
    "tf.random.set_seed(42)"
   ]
  },
  {
   "cell_type": "markdown",
   "metadata": {},
   "source": [
    "### Model Set"
   ]
  },
  {
   "cell_type": "code",
   "execution_count": 5,
   "metadata": {},
   "outputs": [
    {
     "name": "stdout",
     "output_type": "stream",
     "text": [
      "Epoch 1/20\n",
      "363/363 [==============================] - 0s 970us/step - loss: 1.9342 - val_loss: 1.1652\n",
      "Epoch 2/20\n",
      "363/363 [==============================] - 0s 758us/step - loss: 1.1706 - val_loss: 1.1198\n",
      "Epoch 3/20\n",
      "363/363 [==============================] - 0s 766us/step - loss: 1.1226 - val_loss: 1.0718\n",
      "Epoch 4/20\n",
      "363/363 [==============================] - 0s 832us/step - loss: 1.0766 - val_loss: 1.0269\n",
      "Epoch 5/20\n",
      "363/363 [==============================] - 0s 796us/step - loss: 1.0316 - val_loss: 0.9817\n",
      "Epoch 6/20\n",
      "363/363 [==============================] - 0s 777us/step - loss: 0.9879 - val_loss: 0.9397\n",
      "Epoch 7/20\n",
      "363/363 [==============================] - 0s 793us/step - loss: 0.9453 - val_loss: 0.8971\n",
      "Epoch 8/20\n",
      "363/363 [==============================] - 0s 766us/step - loss: 0.9047 - val_loss: 0.8571\n",
      "Epoch 9/20\n",
      "363/363 [==============================] - 0s 763us/step - loss: 0.8663 - val_loss: 0.8200\n",
      "Epoch 10/20\n",
      "363/363 [==============================] - 0s 766us/step - loss: 0.8298 - val_loss: 0.7834\n",
      "Epoch 11/20\n",
      "363/363 [==============================] - 0s 887us/step - loss: 0.7962 - val_loss: 0.7516\n",
      "Epoch 12/20\n",
      "363/363 [==============================] - 0s 780us/step - loss: 0.7655 - val_loss: 0.7222\n",
      "Epoch 13/20\n",
      "363/363 [==============================] - 0s 804us/step - loss: 0.7381 - val_loss: 0.6976\n",
      "Epoch 14/20\n",
      "363/363 [==============================] - 0s 722us/step - loss: 0.7138 - val_loss: 0.6745\n",
      "Epoch 15/20\n",
      "363/363 [==============================] - 0s 727us/step - loss: 0.6926 - val_loss: 0.6527\n",
      "Epoch 16/20\n",
      "363/363 [==============================] - 0s 725us/step - loss: 0.6743 - val_loss: 0.6356\n",
      "Epoch 17/20\n",
      "363/363 [==============================] - 0s 758us/step - loss: 0.6587 - val_loss: 0.6218\n",
      "Epoch 18/20\n",
      "363/363 [==============================] - 0s 752us/step - loss: 0.6454 - val_loss: 0.6078\n",
      "Epoch 19/20\n",
      "363/363 [==============================] - 0s 793us/step - loss: 0.6344 - val_loss: 0.5977\n",
      "Epoch 20/20\n",
      "363/363 [==============================] - 0s 769us/step - loss: 0.6255 - val_loss: 0.5897\n",
      "162/162 [==============================] - 0s 500us/step - loss: 0.6073\n"
     ]
    }
   ],
   "source": [
    "# Sequential\n",
    "# Dense(30)\n",
    "# 활성화 함수: ReLU\n",
    "model = keras.models.Sequential([\n",
    "    keras.layers.Dense(30, activation=\"relu\", input_shape=X_train.shape[1:]),\n",
    "    keras.layers.Dense(1)\n",
    "])\n",
    "\n",
    "\n",
    "# 비용함수: MSE\n",
    "# Optimizer: SGD\n",
    "# epoch: 20\n",
    "model.compile(loss=\"mean_squared_error\", optimizer=keras.optimizers.SGD(lr=1e-3))\n",
    "history = model.fit(X_train, y_train, epochs=20, validation_data=(X_valid, y_valid))\n",
    "mse_test = model.evaluate(X_test, y_test)\n",
    "X_new = X_test[:3]\n",
    "y_pred = model.predict(X_new)"
   ]
  },
  {
   "cell_type": "markdown",
   "metadata": {},
   "source": [
    "### Graph 및 결과값 확인"
   ]
  },
  {
   "cell_type": "code",
   "execution_count": 6,
   "metadata": {},
   "outputs": [],
   "source": [
    "import pandas as pd"
   ]
  },
  {
   "cell_type": "code",
   "execution_count": 7,
   "metadata": {},
   "outputs": [
    {
     "data": {
      "image/png": "[encoded data removed]",
      "text/plain": [
       "<Figure size 432x288 with 1 Axes>"
      ]
     },
     "metadata": {
      "needs_background": "light"
     },
     "output_type": "display_data"
    }
   ],
   "source": [
    "# 그래프 표출: 훈련의 비용함수와 테스트의 비용함수를 epoch에 대하여 그래프로 나타낸다.\n",
    "plt.plot(pd.DataFrame(history.history))\n",
    "plt.grid(True)\n",
    "plt.gca().set_ylim(0, 2)\n",
    "plt.show()"
   ]
  },
  {
   "cell_type": "code",
   "execution_count": 8,
   "metadata": {},
   "outputs": [
    {
     "data": {
      "text/plain": [
       "array([[1.1232022],\n",
       "       [1.6744394],\n",
       "       [2.3415997]], dtype=float32)"
      ]
     },
     "execution_count": 8,
     "metadata": {},
     "output_type": "execute_result"
    }
   ],
   "source": [
    "# 최종적으로 예측된 주택 가격을 표출한다. \n",
    "y_pred"
   ]
  }
 ],
 "metadata": {
  "kernelspec": {
   "display_name": "Python [conda env:venv]",
   "language": "python",
   "name": "conda-env-venv-py"
  },
  "language_info": {
   "codemirror_mode": {
    "name": "ipython",
    "version": 3
   },
   "file_extension": ".py",
   "mimetype": "text/x-python",
   "name": "python",
   "nbconvert_exporter": "python",
   "pygments_lexer": "ipython3",
   "version": "3.7.6"
  }
 },
 "nbformat": 4,
 "nbformat_minor": 4
}
